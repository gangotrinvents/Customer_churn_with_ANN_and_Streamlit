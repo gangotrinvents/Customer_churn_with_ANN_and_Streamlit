{
 "cells": [
  {
   "cell_type": "code",
   "execution_count": 1,
   "metadata": {},
   "outputs": [],
   "source": [
    "import tensorflow as tf\n",
    "from tensorflow.keras.models import load_model\n",
    "import pickle\n",
    "import pandas as pd\n",
    "import numpy as np"
   ]
  },
  {
   "cell_type": "code",
   "execution_count": 37,
   "metadata": {},
   "outputs": [],
   "source": [
    "## Reading our files\n",
    "\n",
    "model = load_model('model.h5')\n",
    "\n",
    "with(open('label_encoder_gender.pkl', 'rb')) as file:\n",
    "    label_encoder_gender = pickle.load(file)\n",
    "with(open('encoder.pkl', 'rb')) as file:\n",
    "    encoder = pickle.load(file)\n",
    "with(open('scaler.pkl', 'rb')) as file:\n",
    "    scaler = pickle.load(file)"
   ]
  },
  {
   "cell_type": "code",
   "execution_count": 73,
   "metadata": {},
   "outputs": [],
   "source": [
    "## Input data for prediction\n",
    "\n",
    "input_data = {\n",
    "    'CreditScore' : 600,\n",
    "    'Geography' : 'France',\n",
    "    'Gender' : 'Male',\n",
    "    'Age' : 40,\n",
    "    'Tenure' : 3,\n",
    "    'Balance' : 60000,\n",
    "    'NumOfProducts' : 2,\n",
    "    'HasCrCard' : 1,\n",
    "    'IsActiveMember' : 1,\n",
    "    'EstimatedSalary' : 50000\n",
    "}\n",
    "\n",
    "input_data = pd.DataFrame([input_data])"
   ]
  },
  {
   "cell_type": "code",
   "execution_count": 74,
   "metadata": {},
   "outputs": [],
   "source": [
    "def prediction_fun(input_data):\n",
    "    input_data = input_data\n",
    "    ## One-hot encode 'Geography'\n",
    "    encoder_geo = encoder.transform([input_data['Geography']])\n",
    "    encoder_geo_df = pd.DataFrame(encoder_geo, columns= encoder.get_feature_names(['Geography']))\n",
    "\n",
    "    # Combine one-hot encoded columns with input data\n",
    "    input_data = pd.concat([input_data.reset_index(drop=True), encoder_geo_df],axis=1)\n",
    "    # Drop Geography coloumn\n",
    "    input_data = input_data.drop(columns=['Geography'], axis=1)\n",
    "\n",
    "\n",
    "    ## Lable encode 'Gender'\n",
    "    input_data['Gender'] = label_encoder_gender.transform([input_data['Gender']])\n",
    "\n",
    "\n",
    "    ## Scaling input data\n",
    "    input_data = scaler.transform(input_data)\n",
    "\n",
    "    return input_data"
   ]
  },
  {
   "cell_type": "code",
   "execution_count": 76,
   "metadata": {},
   "outputs": [
    {
     "name": "stderr",
     "output_type": "stream",
     "text": [
      "c:\\Users\\Gangotri Mishra\\AppData\\Local\\Programs\\Python\\Python36\\lib\\site-packages\\sklearn\\utils\\validation.py:63: DataConversionWarning: A column-vector y was passed when a 1d array was expected. Please change the shape of y to (n_samples, ), for example using ravel().\n",
      "  return f(*args, **kwargs)\n"
     ]
    }
   ],
   "source": [
    "## Predict Churn\n",
    "\n",
    "prediction = model.predict(prediction_fun(input_data))\n",
    "\n",
    "if prediction[0][0] >= 0.5:\n",
    "    print(\"Customer may churn out\")\n",
    "else:\n",
    "    print(\"Customer may won't churn out\")"
   ]
  }
 ],
 "metadata": {
  "kernelspec": {
   "display_name": "Python 3",
   "language": "python",
   "name": "python3"
  },
  "language_info": {
   "codemirror_mode": {
    "name": "ipython",
    "version": 3
   },
   "file_extension": ".py",
   "mimetype": "text/x-python",
   "name": "python",
   "nbconvert_exporter": "python",
   "pygments_lexer": "ipython3",
   "version": "3.6.7"
  }
 },
 "nbformat": 4,
 "nbformat_minor": 2
}
