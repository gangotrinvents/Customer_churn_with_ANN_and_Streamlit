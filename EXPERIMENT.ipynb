{
 "cells": [
  {
   "cell_type": "code",
   "execution_count": 41,
   "metadata": {},
   "outputs": [],
   "source": [
    "import pandas as pd\n",
    "import numpy as np\n",
    "from sklearn.model_selection import train_test_split\n",
    "from sklearn.preprocessing import StandardScaler, LabelEncoder\n",
    "from sklearn.preprocessing import OneHotEncoder\n",
    "from sklearn import preprocessing\n",
    "import pickle"
   ]
  },
  {
   "cell_type": "code",
   "execution_count": 42,
   "metadata": {},
   "outputs": [],
   "source": [
    "data = pd.read_csv('Churn_Modelling.csv')"
   ]
  },
  {
   "cell_type": "markdown",
   "metadata": {},
   "source": [
    "# EDA"
   ]
  },
  {
   "cell_type": "code",
   "execution_count": 43,
   "metadata": {},
   "outputs": [
    {
     "data": {
      "text/html": [
       "<div>\n",
       "<style scoped>\n",
       "    .dataframe tbody tr th:only-of-type {\n",
       "        vertical-align: middle;\n",
       "    }\n",
       "\n",
       "    .dataframe tbody tr th {\n",
       "        vertical-align: top;\n",
       "    }\n",
       "\n",
       "    .dataframe thead th {\n",
       "        text-align: right;\n",
       "    }\n",
       "</style>\n",
       "<table border=\"1\" class=\"dataframe\">\n",
       "  <thead>\n",
       "    <tr style=\"text-align: right;\">\n",
       "      <th></th>\n",
       "      <th>RowNumber</th>\n",
       "      <th>CustomerId</th>\n",
       "      <th>Surname</th>\n",
       "      <th>CreditScore</th>\n",
       "      <th>Geography</th>\n",
       "      <th>Gender</th>\n",
       "      <th>Age</th>\n",
       "      <th>Tenure</th>\n",
       "      <th>Balance</th>\n",
       "      <th>NumOfProducts</th>\n",
       "      <th>HasCrCard</th>\n",
       "      <th>IsActiveMember</th>\n",
       "      <th>EstimatedSalary</th>\n",
       "      <th>Exited</th>\n",
       "    </tr>\n",
       "  </thead>\n",
       "  <tbody>\n",
       "    <tr>\n",
       "      <th>0</th>\n",
       "      <td>1</td>\n",
       "      <td>15634602</td>\n",
       "      <td>Hargrave</td>\n",
       "      <td>619</td>\n",
       "      <td>France</td>\n",
       "      <td>Female</td>\n",
       "      <td>42</td>\n",
       "      <td>2</td>\n",
       "      <td>0.00</td>\n",
       "      <td>1</td>\n",
       "      <td>1</td>\n",
       "      <td>1</td>\n",
       "      <td>101348.88</td>\n",
       "      <td>1</td>\n",
       "    </tr>\n",
       "    <tr>\n",
       "      <th>1</th>\n",
       "      <td>2</td>\n",
       "      <td>15647311</td>\n",
       "      <td>Hill</td>\n",
       "      <td>608</td>\n",
       "      <td>Spain</td>\n",
       "      <td>Female</td>\n",
       "      <td>41</td>\n",
       "      <td>1</td>\n",
       "      <td>83807.86</td>\n",
       "      <td>1</td>\n",
       "      <td>0</td>\n",
       "      <td>1</td>\n",
       "      <td>112542.58</td>\n",
       "      <td>0</td>\n",
       "    </tr>\n",
       "    <tr>\n",
       "      <th>2</th>\n",
       "      <td>3</td>\n",
       "      <td>15619304</td>\n",
       "      <td>Onio</td>\n",
       "      <td>502</td>\n",
       "      <td>France</td>\n",
       "      <td>Female</td>\n",
       "      <td>42</td>\n",
       "      <td>8</td>\n",
       "      <td>159660.80</td>\n",
       "      <td>3</td>\n",
       "      <td>1</td>\n",
       "      <td>0</td>\n",
       "      <td>113931.57</td>\n",
       "      <td>1</td>\n",
       "    </tr>\n",
       "    <tr>\n",
       "      <th>3</th>\n",
       "      <td>4</td>\n",
       "      <td>15701354</td>\n",
       "      <td>Boni</td>\n",
       "      <td>699</td>\n",
       "      <td>France</td>\n",
       "      <td>Female</td>\n",
       "      <td>39</td>\n",
       "      <td>1</td>\n",
       "      <td>0.00</td>\n",
       "      <td>2</td>\n",
       "      <td>0</td>\n",
       "      <td>0</td>\n",
       "      <td>93826.63</td>\n",
       "      <td>0</td>\n",
       "    </tr>\n",
       "    <tr>\n",
       "      <th>4</th>\n",
       "      <td>5</td>\n",
       "      <td>15737888</td>\n",
       "      <td>Mitchell</td>\n",
       "      <td>850</td>\n",
       "      <td>Spain</td>\n",
       "      <td>Female</td>\n",
       "      <td>43</td>\n",
       "      <td>2</td>\n",
       "      <td>125510.82</td>\n",
       "      <td>1</td>\n",
       "      <td>1</td>\n",
       "      <td>1</td>\n",
       "      <td>79084.10</td>\n",
       "      <td>0</td>\n",
       "    </tr>\n",
       "  </tbody>\n",
       "</table>\n",
       "</div>"
      ],
      "text/plain": [
       "   RowNumber  CustomerId   Surname  CreditScore Geography  Gender  Age  \\\n",
       "0          1    15634602  Hargrave          619    France  Female   42   \n",
       "1          2    15647311      Hill          608     Spain  Female   41   \n",
       "2          3    15619304      Onio          502    France  Female   42   \n",
       "3          4    15701354      Boni          699    France  Female   39   \n",
       "4          5    15737888  Mitchell          850     Spain  Female   43   \n",
       "\n",
       "   Tenure    Balance  NumOfProducts  HasCrCard  IsActiveMember  \\\n",
       "0       2       0.00              1          1               1   \n",
       "1       1   83807.86              1          0               1   \n",
       "2       8  159660.80              3          1               0   \n",
       "3       1       0.00              2          0               0   \n",
       "4       2  125510.82              1          1               1   \n",
       "\n",
       "   EstimatedSalary  Exited  \n",
       "0        101348.88       1  \n",
       "1        112542.58       0  \n",
       "2        113931.57       1  \n",
       "3         93826.63       0  \n",
       "4         79084.10       0  "
      ]
     },
     "execution_count": 43,
     "metadata": {},
     "output_type": "execute_result"
    }
   ],
   "source": [
    "data.head()"
   ]
  },
  {
   "cell_type": "code",
   "execution_count": 44,
   "metadata": {},
   "outputs": [
    {
     "name": "stdout",
     "output_type": "stream",
     "text": [
      "checking nulls:\n",
      " RowNumber          0\n",
      "CustomerId         0\n",
      "Surname            0\n",
      "CreditScore        0\n",
      "Geography          0\n",
      "Gender             0\n",
      "Age                0\n",
      "Tenure             0\n",
      "Balance            0\n",
      "NumOfProducts      0\n",
      "HasCrCard          0\n",
      "IsActiveMember     0\n",
      "EstimatedSalary    0\n",
      "Exited             0\n",
      "dtype: int64\n",
      "Summary:\n",
      "          RowNumber    CustomerId   CreditScore           Age        Tenure  \\\n",
      "count  10000.00000  1.000000e+04  10000.000000  10000.000000  10000.000000   \n",
      "mean    5000.50000  1.569094e+07    650.528800     38.921800      5.012800   \n",
      "std     2886.89568  7.193619e+04     96.653299     10.487806      2.892174   \n",
      "min        1.00000  1.556570e+07    350.000000     18.000000      0.000000   \n",
      "25%     2500.75000  1.562853e+07    584.000000     32.000000      3.000000   \n",
      "50%     5000.50000  1.569074e+07    652.000000     37.000000      5.000000   \n",
      "75%     7500.25000  1.575323e+07    718.000000     44.000000      7.000000   \n",
      "max    10000.00000  1.581569e+07    850.000000     92.000000     10.000000   \n",
      "\n",
      "             Balance  NumOfProducts    HasCrCard  IsActiveMember  \\\n",
      "count   10000.000000   10000.000000  10000.00000    10000.000000   \n",
      "mean    76485.889288       1.530200      0.70550        0.515100   \n",
      "std     62397.405202       0.581654      0.45584        0.499797   \n",
      "min         0.000000       1.000000      0.00000        0.000000   \n",
      "25%         0.000000       1.000000      0.00000        0.000000   \n",
      "50%     97198.540000       1.000000      1.00000        1.000000   \n",
      "75%    127644.240000       2.000000      1.00000        1.000000   \n",
      "max    250898.090000       4.000000      1.00000        1.000000   \n",
      "\n",
      "       EstimatedSalary        Exited  \n",
      "count     10000.000000  10000.000000  \n",
      "mean     100090.239881      0.203700  \n",
      "std       57510.492818      0.402769  \n",
      "min          11.580000      0.000000  \n",
      "25%       51002.110000      0.000000  \n",
      "50%      100193.915000      0.000000  \n",
      "75%      149388.247500      0.000000  \n",
      "max      199992.480000      1.000000  \n",
      "Statistical:\n",
      " RowNumber  CustomerId  Surname     CreditScore  Geography  Gender  Age  Tenure  Balance    NumOfProducts  HasCrCard  IsActiveMember  EstimatedSalary  Exited\n",
      "10000      15628319    Walker      792          France     Female  28   4       130142.79  1              1          0               38190.78         0         1\n",
      "3330       15684925    Vicars      850          France     Female  43   3       0.00       2              0          0               2465.80          0         1\n",
      "3337       15671390    Chukwukere  690          Spain      Male    36   10      0.00       2              1          0               55902.93         0         1\n",
      "3336       15660735    T'ang       581          Spain      Female  31   6       0.00       2              1          0               188377.21        0         1\n",
      "3335       15702300    Walker      671          France     Male    27   5       0.00       2              0          0               120893.07        0         1\n",
      "                                                                                                                                                               ..\n",
      "6667       15798709    Gill        588          Spain      Male    32   3       109109.33  1              0          1               4993.94          0         1\n",
      "6666       15599024    Hope        506          Spain      Male    32   8       0.00       2              0          1               182692.80        0         1\n",
      "6665       15667632    Birdseye    703          France     Female  42   7       0.00       2              0          1               72500.68         0         1\n",
      "6664       15766185    She         850          Germany    Male    31   4       146587.30  1              1          1               89874.82         0         1\n",
      "1          15634602    Hargrave    619          France     Female  42   2       0.00       1              1          1               101348.88        1         1\n",
      "Length: 10000, dtype: int64\n",
      "Unique Items:  2 \n",
      " ['Female' 'Male']\n",
      "Unique Items:  3 \n",
      " ['France' 'Spain' 'Germany']\n"
     ]
    }
   ],
   "source": [
    "print(\"checking nulls:\\n\", data.isnull().sum())\n",
    "print(\"Summary:\\n\", data.describe())\n",
    "print(\"Statistical:\\n\", data.value_counts())\n",
    "print(\"Unique Items: \",data['Gender'].nunique(), \"\\n\", data['Gender'].unique())\n",
    "print(\"Unique Items: \",data['Geography'].nunique(), \"\\n\", data['Geography'].unique())"
   ]
  },
  {
   "cell_type": "code",
   "execution_count": 45,
   "metadata": {},
   "outputs": [],
   "source": [
    "label_encoder_gender = LabelEncoder()\n",
    "data['Gender']=label_encoder_gender.fit_transform(data['Gender'])\n",
    "\n",
    "encoder = OneHotEncoder(sparse=False)\n",
    "geo_encoder = encoder.fit_transform(data[['Geography']])\n",
    "# encoder.get_feature_names_out(['Geography'])------- it help us create feature names from column values\n",
    "geodata = pd.DataFrame(geo_encoder,columns=encoder.get_feature_names(['Geography']))\n",
    "data = pd.concat([data,geodata],axis=1)"
   ]
  },
  {
   "cell_type": "code",
   "execution_count": 46,
   "metadata": {},
   "outputs": [],
   "source": [
    "data = data.drop(columns=['RowNumber','CustomerId','Surname','Geography'],axis=1)"
   ]
  },
  {
   "cell_type": "code",
   "execution_count": 47,
   "metadata": {},
   "outputs": [],
   "source": [
    "import matplotlib.pyplot as plt\n",
    "import math\n",
    "from scipy.stats import norm\n",
    "import statistics"
   ]
  },
  {
   "cell_type": "code",
   "execution_count": 48,
   "metadata": {},
   "outputs": [
    {
     "data": {
      "text/html": [
       "<div>\n",
       "<style scoped>\n",
       "    .dataframe tbody tr th:only-of-type {\n",
       "        vertical-align: middle;\n",
       "    }\n",
       "\n",
       "    .dataframe tbody tr th {\n",
       "        vertical-align: top;\n",
       "    }\n",
       "\n",
       "    .dataframe thead th {\n",
       "        text-align: right;\n",
       "    }\n",
       "</style>\n",
       "<table border=\"1\" class=\"dataframe\">\n",
       "  <thead>\n",
       "    <tr style=\"text-align: right;\">\n",
       "      <th></th>\n",
       "      <th>CreditScore</th>\n",
       "      <th>Gender</th>\n",
       "      <th>Age</th>\n",
       "      <th>Tenure</th>\n",
       "      <th>Balance</th>\n",
       "      <th>NumOfProducts</th>\n",
       "      <th>HasCrCard</th>\n",
       "      <th>IsActiveMember</th>\n",
       "      <th>EstimatedSalary</th>\n",
       "      <th>Exited</th>\n",
       "      <th>Geography_France</th>\n",
       "      <th>Geography_Germany</th>\n",
       "      <th>Geography_Spain</th>\n",
       "    </tr>\n",
       "  </thead>\n",
       "  <tbody>\n",
       "    <tr>\n",
       "      <th>0</th>\n",
       "      <td>619</td>\n",
       "      <td>0</td>\n",
       "      <td>42</td>\n",
       "      <td>2</td>\n",
       "      <td>0.00</td>\n",
       "      <td>1</td>\n",
       "      <td>1</td>\n",
       "      <td>1</td>\n",
       "      <td>101348.88</td>\n",
       "      <td>1</td>\n",
       "      <td>1.0</td>\n",
       "      <td>0.0</td>\n",
       "      <td>0.0</td>\n",
       "    </tr>\n",
       "    <tr>\n",
       "      <th>1</th>\n",
       "      <td>608</td>\n",
       "      <td>0</td>\n",
       "      <td>41</td>\n",
       "      <td>1</td>\n",
       "      <td>83807.86</td>\n",
       "      <td>1</td>\n",
       "      <td>0</td>\n",
       "      <td>1</td>\n",
       "      <td>112542.58</td>\n",
       "      <td>0</td>\n",
       "      <td>0.0</td>\n",
       "      <td>0.0</td>\n",
       "      <td>1.0</td>\n",
       "    </tr>\n",
       "  </tbody>\n",
       "</table>\n",
       "</div>"
      ],
      "text/plain": [
       "   CreditScore  Gender  Age  Tenure   Balance  NumOfProducts  HasCrCard  \\\n",
       "0          619       0   42       2      0.00              1          1   \n",
       "1          608       0   41       1  83807.86              1          0   \n",
       "\n",
       "   IsActiveMember  EstimatedSalary  Exited  Geography_France  \\\n",
       "0               1        101348.88       1               1.0   \n",
       "1               1        112542.58       0               0.0   \n",
       "\n",
       "   Geography_Germany  Geography_Spain  \n",
       "0                0.0              0.0  \n",
       "1                0.0              1.0  "
      ]
     },
     "execution_count": 48,
     "metadata": {},
     "output_type": "execute_result"
    }
   ],
   "source": [
    "data.head(2)"
   ]
  },
  {
   "cell_type": "code",
   "execution_count": 49,
   "metadata": {},
   "outputs": [
    {
     "data": {
      "image/png": "[encoded data removed]",
      "text/plain": [
       "<Figure size 432x288 with 4 Axes>"
      ]
     },
     "metadata": {
      "needs_background": "light"
     },
     "output_type": "display_data"
    }
   ],
   "source": [
    "# Normal Distribution charts\n",
    "fig,axis = plt.subplots(2,2)\n",
    "\n",
    "# data.describe()\n",
    "\n",
    "axis[0,0].plot(data['CreditScore'], norm.pdf(data['CreditScore'],\n",
    "                                             data.describe()['CreditScore']['mean'],\n",
    "                                             data.describe()['CreditScore']['std']))\n",
    "axis[0, 0].set_title('Credit Score')\n",
    "\n",
    "axis[0,1].plot(data['Age'], norm.pdf(data['Age'],\n",
    "                                             data.describe()['Age']['mean'],\n",
    "                                             data.describe()['Age']['std']))\n",
    "axis[0, 1].set_title('Age')\n",
    "\n",
    "axis[1,0].plot(data['Balance'], norm.pdf(data['Balance'],\n",
    "                                             data.describe()['Balance']['mean'],\n",
    "                                             data.describe()['Balance']['std']))\n",
    "axis[1, 0].set_title('Balance')\n",
    "\n",
    "axis[1,1].plot(data['EstimatedSalary'], norm.pdf(data['EstimatedSalary'],\n",
    "                                             data.describe()['EstimatedSalary']['mean'],\n",
    "                                             data.describe()['EstimatedSalary']['std']))\n",
    "axis[1, 1].set_title('Estimated Salary')\n",
    "\n",
    "plt.show()"
   ]
  },
  {
   "cell_type": "code",
   "execution_count": 50,
   "metadata": {},
   "outputs": [
    {
     "data": {
      "image/png": "[encoded data removed]",
      "text/plain": [
       "<Figure size 432x288 with 4 Axes>"
      ]
     },
     "metadata": {
      "needs_background": "light"
     },
     "output_type": "display_data"
    }
   ],
   "source": [
    "# Boxplot\n",
    "fig,axis = plt.subplots(2,2)\n",
    "\n",
    "# data.describe()\n",
    "\n",
    "axis[0,0].boxplot(data['CreditScore'])\n",
    "axis[0,0].set_title('Credit Score')\n",
    "\n",
    "axis[0,1].boxplot(data['Age'])\n",
    "axis[0,1].set_title('Age')\n",
    "\n",
    "axis[1,0].boxplot(data['Balance'])\n",
    "axis[1,0].set_title('Balance')\n",
    "\n",
    "axis[1,1].boxplot(data['EstimatedSalary'])\n",
    "axis[1,1].set_title('Estimated Salary')\n",
    "\n",
    "plt.show()"
   ]
  },
  {
   "cell_type": "markdown",
   "metadata": {},
   "source": [
    "# When to use what :\n",
    "<i>standardization </i>\n",
    "\n",
    "    1. When features have different units: \n",
    "    2. For algorithms that rely on distance metrics\n",
    "    3. When your data follows a Gaussian (normal) distribution\n",
    "\n",
    "\n",
    "<i>normalization </i>    \n",
    "\n",
    "    1. When you need to bound your data\n",
    "    2. For data with varying ranges\n",
    "    3. When using algorithms that are sensitive to outliers\n",
    "\n",
    "\n",
    "<i>overall </i>  \n",
    "\n",
    "    1. Use Standardization when your data is normally distributed and when you’re using models sensitive to the distribution and scale of the data.\n",
    "    2. Use Normalization when your data needs to be bounded or when working with algorithms sensitive to the scale, like neural networks."
   ]
  },
  {
   "cell_type": "code",
   "execution_count": 51,
   "metadata": {},
   "outputs": [],
   "source": [
    "normal = preprocessing.MinMaxScaler()\n",
    "Cred_scaled = normal.fit_transform(data[['CreditScore']])\n",
    "Age_scaled = normal.fit_transform(data[['Age']])\n",
    "Balance_scaled = normal.fit_transform(data[['Balance']])\n",
    "Sal_scaled = normal.fit_transform(data[['EstimatedSalary']])\n"
   ]
  },
  {
   "cell_type": "markdown",
   "metadata": {},
   "source": [
    "# Pickle Use\n",
    "\n",
    "As we have used one hot encoder and label encoder, we have to save those transformative file in order to transform our future input values. \n",
    "To save these transformation we will use pickle, which can used later"
   ]
  },
  {
   "cell_type": "code",
   "execution_count": 52,
   "metadata": {},
   "outputs": [],
   "source": [
    "# Save the encoders and scalers\n",
    "# wb is write byte mode\n",
    "\n",
    "# What is happening here?\n",
    "    # we are creating file with .pkl extension and here are dumping our transformation, encoder or scaler details using pickle\n",
    "    # and this will help us later for the transformation to new data using details of train data becuase these file are being created\n",
    "    # using the help of train data\n",
    "\n",
    "with(open('label_encoder_gender.pkl','wb')) as file:\n",
    "    pickle.dump(label_encoder_gender,file)\n",
    "\n",
    "with(open('encoder.pkl','wb')) as file:\n",
    "    pickle.dump(encoder,file)\n"
   ]
  },
  {
   "cell_type": "code",
   "execution_count": 53,
   "metadata": {},
   "outputs": [],
   "source": [
    "# Divide dataset into dependent and independent features.\n",
    "y = data['Exited']\n",
    "x = data.drop('Exited', axis=1)"
   ]
  },
  {
   "cell_type": "code",
   "execution_count": 54,
   "metadata": {},
   "outputs": [],
   "source": [
    "# Split the data into train and test\n",
    "    # Shuffle data is suffled before dividing\n",
    "    # If you don't specify the random_state in the code, then every time you run(execute) your code a new random value is generated \n",
    "        # and the train and test datasets would have different values each time.\n",
    "    # Stratify = y means dataset will divide propoertion as per the y \n",
    "x_train, x_test, y_train, y_test = train_test_split(x,y,random_state=104, test_size= 0.2, shuffle= True, stratify=y)"
   ]
  },
  {
   "cell_type": "code",
   "execution_count": 55,
   "metadata": {},
   "outputs": [],
   "source": [
    "# Normalizing whole dataset\n",
    "# normal_val = normal.fit_transform(data)\n",
    "# normal_data = pd.DataFrame(normal_val, columns= data.columns)\n",
    "\n",
    "# Scale these features\n",
    "scaler = StandardScaler()\n",
    "x_train = scaler.fit_transform(x_train)\n",
    "x_test = scaler.fit_transform(x_test)\n"
   ]
  },
  {
   "cell_type": "code",
   "execution_count": 56,
   "metadata": {},
   "outputs": [],
   "source": [
    "# save this scaler file using pickle\n",
    " \n",
    "with(open('scaler.pkl','wb')) as file:\n",
    "    pickle.dump(scaler,file)"
   ]
  },
  {
   "cell_type": "code",
   "execution_count": 57,
   "metadata": {},
   "outputs": [
    {
     "name": "stdout",
     "output_type": "stream",
     "text": [
      "True\n",
      "WARNING:tensorflow:From <ipython-input-57-850b90d856e0>:4: is_gpu_available (from tensorflow.python.framework.test_util) is deprecated and will be removed in a future version.\n",
      "Instructions for updating:\n",
      "Use `tf.config.list_physical_devices('GPU')` instead.\n",
      "True\n",
      "[PhysicalDevice(name='/physical_device:GPU:0', device_type='GPU')]\n"
     ]
    }
   ],
   "source": [
    "# importing the tensorflow package\n",
    "import tensorflow as tf \n",
    "print(tf.test.is_built_with_cuda())\n",
    "print(tf.test.is_gpu_available(cuda_only=False, min_cuda_compute_capability=None))\n",
    "print(tf.config.list_physical_devices('GPU'))"
   ]
  },
  {
   "cell_type": "markdown",
   "metadata": {},
   "source": [
    "# Create Model"
   ]
  },
  {
   "cell_type": "code",
   "execution_count": 59,
   "metadata": {},
   "outputs": [],
   "source": [
    "# ANN model\n",
    "import tensorflow as tf\n",
    "from tensorflow.keras.models import Sequential\n",
    "from tensorflow.keras.layers import Dense\n",
    "from tensorflow.keras.callbacks import EarlyStopping, TensorBoard\n",
    "import datetime"
   ]
  },
  {
   "cell_type": "code",
   "execution_count": 60,
   "metadata": {},
   "outputs": [
    {
     "data": {
      "text/plain": [
       "(8000, 12)"
      ]
     },
     "execution_count": 60,
     "metadata": {},
     "output_type": "execute_result"
    }
   ],
   "source": [
    "x_train.shape"
   ]
  },
  {
   "cell_type": "code",
   "execution_count": 61,
   "metadata": {},
   "outputs": [
    {
     "name": "stdout",
     "output_type": "stream",
     "text": [
      "Model: \"sequential\"\n",
      "_________________________________________________________________\n",
      "Layer (type)                 Output Shape              Param #   \n",
      "=================================================================\n",
      "dense (Dense)                (None, 64)                832       \n",
      "_________________________________________________________________\n",
      "dense_1 (Dense)              (None, 32)                2080      \n",
      "_________________________________________________________________\n",
      "dense_2 (Dense)              (None, 16)                528       \n",
      "_________________________________________________________________\n",
      "dense_3 (Dense)              (None, 1)                 17        \n",
      "=================================================================\n",
      "Total params: 3,457\n",
      "Trainable params: 3,457\n",
      "Non-trainable params: 0\n",
      "_________________________________________________________________\n"
     ]
    }
   ],
   "source": [
    "model = Sequential([\n",
    "    Dense(64, activation='relu', input_shape=(x_train.shape[1],)), # Hidden Layer1 connected with input layer\n",
    "    Dense(32,activation='relu'), # Hidden Layer2\n",
    "    Dense(16,activation='relu'), # Hidden Layer3\n",
    "    Dense(1,activation='sigmoid') # Output Layer\n",
    "])\n",
    "\n",
    "model.summary()"
   ]
  },
  {
   "cell_type": "code",
   "execution_count": 62,
   "metadata": {},
   "outputs": [],
   "source": [
    "## Compile model\n",
    "# Compilation help us in initializing optimizer,\n",
    "   # loss and learning rate for backpropogation\n",
    "\n",
    "# model.compile(optimizer='adam' ,loss='binary_crossentropy' ,metrics=['accuracy'])\n",
    "\n",
    "opt = tf.keras.optimizers.Adam(learning_rate=0.01)\n",
    "losss = tf.keras.losses.BinaryCrossentropy()\n",
    "\n",
    "model.compile(optimizer= opt ,loss= losss ,metrics=['accuracy'])\n"
   ]
  },
  {
   "cell_type": "code",
   "execution_count": 63,
   "metadata": {},
   "outputs": [],
   "source": [
    "## Setup tensorboard\n",
    "# to start training and capture log for the visualization\n",
    "\n",
    "# strftime is used to define in which time format we want to store log\n",
    "log_dir = \"logs/fit\" + datetime.datetime.now().strftime(\"%Y%m%d-%H%M%S\")\n",
    "\n",
    "tensorflow_callback = TensorBoard(log_dir= log_dir, histogram_freq= 1)"
   ]
  },
  {
   "cell_type": "code",
   "execution_count": 64,
   "metadata": {},
   "outputs": [],
   "source": [
    "## Early stopping\n",
    "# it help us to stop our training incase we are seeing very little change in loss\n",
    "# or model already got stagnated\n",
    "\n",
    "# here we definig to monitor validation loss, and atleast run it for 5 epochs and \n",
    "# after this it can take call to early stop and restore the best weights\n",
    "early_stopping_callback= EarlyStopping(monitor= 'val_loss', patience= 10, restore_best_weights= True)\n"
   ]
  },
  {
   "cell_type": "code",
   "execution_count": 65,
   "metadata": {},
   "outputs": [
    {
     "name": "stdout",
     "output_type": "stream",
     "text": [
      "Epoch 1/100\n",
      "250/250 [==============================] - 5s 6ms/step - loss: 0.4058 - accuracy: 0.8241 - val_loss: 0.3522 - val_accuracy: 0.8585\n",
      "Epoch 2/100\n",
      "250/250 [==============================] - 1s 4ms/step - loss: 0.3620 - accuracy: 0.8526 - val_loss: 0.3554 - val_accuracy: 0.8590\n",
      "Epoch 3/100\n",
      "250/250 [==============================] - 1s 4ms/step - loss: 0.3502 - accuracy: 0.8544 - val_loss: 0.3502 - val_accuracy: 0.8640\n",
      "Epoch 4/100\n",
      "250/250 [==============================] - 1s 4ms/step - loss: 0.3491 - accuracy: 0.8554 - val_loss: 0.3458 - val_accuracy: 0.8600\n",
      "Epoch 5/100\n",
      "250/250 [==============================] - 1s 4ms/step - loss: 0.3430 - accuracy: 0.8569 - val_loss: 0.3557 - val_accuracy: 0.8555\n",
      "Epoch 6/100\n",
      "250/250 [==============================] - 1s 4ms/step - loss: 0.3410 - accuracy: 0.8599 - val_loss: 0.3444 - val_accuracy: 0.8695\n",
      "Epoch 7/100\n",
      "250/250 [==============================] - 1s 4ms/step - loss: 0.3394 - accuracy: 0.8605 - val_loss: 0.3446 - val_accuracy: 0.8590\n",
      "Epoch 8/100\n",
      "250/250 [==============================] - 1s 4ms/step - loss: 0.3336 - accuracy: 0.8601 - val_loss: 0.3391 - val_accuracy: 0.8665\n",
      "Epoch 9/100\n",
      "250/250 [==============================] - 1s 4ms/step - loss: 0.3349 - accuracy: 0.8629 - val_loss: 0.3405 - val_accuracy: 0.8620\n",
      "Epoch 10/100\n",
      "250/250 [==============================] - 1s 4ms/step - loss: 0.3331 - accuracy: 0.8629 - val_loss: 0.3432 - val_accuracy: 0.8585\n",
      "Epoch 11/100\n",
      "250/250 [==============================] - 1s 4ms/step - loss: 0.3314 - accuracy: 0.8636 - val_loss: 0.3392 - val_accuracy: 0.8635\n",
      "Epoch 12/100\n",
      "250/250 [==============================] - 1s 5ms/step - loss: 0.3279 - accuracy: 0.8639 - val_loss: 0.3445 - val_accuracy: 0.8675\n",
      "Epoch 13/100\n",
      "250/250 [==============================] - 1s 4ms/step - loss: 0.3270 - accuracy: 0.8673 - val_loss: 0.3346 - val_accuracy: 0.8650\n",
      "Epoch 14/100\n",
      "250/250 [==============================] - 1s 4ms/step - loss: 0.3261 - accuracy: 0.8640 - val_loss: 0.3379 - val_accuracy: 0.8695\n",
      "Epoch 15/100\n",
      "250/250 [==============================] - 1s 5ms/step - loss: 0.3255 - accuracy: 0.8634 - val_loss: 0.3372 - val_accuracy: 0.8620\n",
      "Epoch 16/100\n",
      "250/250 [==============================] - 1s 5ms/step - loss: 0.3215 - accuracy: 0.8666 - val_loss: 0.3431 - val_accuracy: 0.8650\n",
      "Epoch 17/100\n",
      "250/250 [==============================] - 1s 4ms/step - loss: 0.3212 - accuracy: 0.8681 - val_loss: 0.3396 - val_accuracy: 0.8615\n",
      "Epoch 18/100\n",
      "250/250 [==============================] - 1s 4ms/step - loss: 0.3176 - accuracy: 0.8671 - val_loss: 0.3392 - val_accuracy: 0.8715\n",
      "Epoch 19/100\n",
      "250/250 [==============================] - 1s 4ms/step - loss: 0.3164 - accuracy: 0.8683 - val_loss: 0.3398 - val_accuracy: 0.8615\n",
      "Epoch 20/100\n",
      "250/250 [==============================] - 1s 4ms/step - loss: 0.3150 - accuracy: 0.8674 - val_loss: 0.3453 - val_accuracy: 0.8650\n",
      "Epoch 21/100\n",
      "250/250 [==============================] - 1s 4ms/step - loss: 0.3113 - accuracy: 0.8715 - val_loss: 0.3635 - val_accuracy: 0.8570\n",
      "Epoch 22/100\n",
      "250/250 [==============================] - 1s 4ms/step - loss: 0.3132 - accuracy: 0.8701 - val_loss: 0.3433 - val_accuracy: 0.8665\n",
      "Epoch 23/100\n",
      "250/250 [==============================] - 1s 4ms/step - loss: 0.3092 - accuracy: 0.8698 - val_loss: 0.3495 - val_accuracy: 0.8615\n"
     ]
    }
   ],
   "source": [
    "## Train the model\n",
    "\n",
    "history = model.fit(x_train,y_train, validation_data=(x_test,y_test), \n",
    "                    epochs=100, callbacks=[tensorflow_callback,early_stopping_callback])"
   ]
  },
  {
   "cell_type": "code",
   "execution_count": 66,
   "metadata": {},
   "outputs": [],
   "source": [
    "## Save model using .h5 extension\n",
    "\n",
    "model.save('model.h5')"
   ]
  },
  {
   "cell_type": "code",
   "execution_count": 78,
   "metadata": {},
   "outputs": [
    {
     "name": "stdout",
     "output_type": "stream",
     "text": [
      "The tensorboard extension is already loaded. To reload it, use:\n",
      "  %reload_ext tensorboard\n"
     ]
    },
    {
     "data": {
      "text/plain": [
       "Reusing TensorBoard on port 6006 (pid 21508), started 0:09:22 ago. (Use '!kill 21508' to kill it.)"
      ]
     },
     "metadata": {},
     "output_type": "display_data"
    },
    {
     "data": {
      "text/html": [
       "\n",
       "      <iframe id=\"tensorboard-frame-ce81740c1a291893\" width=\"100%\" height=\"800\" frameborder=\"0\">\n",
       "      </iframe>\n",
       "      <script>\n",
       "        (function() {\n",
       "          const frame = document.getElementById(\"tensorboard-frame-ce81740c1a291893\");\n",
       "          const url = new URL(\"http://localhost\");\n",
       "          url.port = 6006;\n",
       "          frame.src = url;\n",
       "        })();\n",
       "      </script>\n",
       "  "
      ],
      "text/plain": [
       "<IPython.core.display.HTML object>"
      ]
     },
     "metadata": {},
     "output_type": "display_data"
    }
   ],
   "source": [
    "## Load tensorboard extension\n",
    "\n",
    "%load_ext tensorboard\n",
    "\n",
    "%tensorboard --logdir=logs/fit20240921-201817\n",
    "\n",
    "# Use something like this \"http://localhost:6006/#scalars\""
   ]
  },
  {
   "cell_type": "code",
   "execution_count": 77,
   "metadata": {},
   "outputs": [
    {
     "data": {
      "text/plain": [
       "Text(0.5, 1.0, 'Validation Accuracy')"
      ]
     },
     "execution_count": 77,
     "metadata": {},
     "output_type": "execute_result"
    },
    {
     "data": {
      "image/png": "[encoded data removed]",
      "text/plain": [
       "<Figure size 720x720 with 4 Axes>"
      ]
     },
     "metadata": {
      "needs_background": "light"
     },
     "output_type": "display_data"
    }
   ],
   "source": [
    "# Looking at difference charts to understand performance of model\n",
    "\n",
    "history.history.keys()\n",
    "\n",
    "fig2,axis2 = plt.subplots(2,2, figsize = (10,10))\n",
    "\n",
    "axis2[0,0].plot(history.history['accuracy'])\n",
    "axis2[0,0].set_title('Accuracy')\n",
    "axis2[0,1].plot(history.history['loss'])\n",
    "axis2[0,1].set_title('Los')\n",
    "axis2[1,0].plot(history.history['val_loss'])\n",
    "axis2[1,0].set_title('Validation Loss')\n",
    "axis2[1,1].plot(history.history['val_accuracy'])\n",
    "axis2[1,1].set_title('Validation Accuracy')"
   ]
  },
  {
   "cell_type": "code",
   "execution_count": 79,
   "metadata": {},
   "outputs": [
    {
     "data": {
      "image/png": "[encoded data removed]",
      "text/plain": [
       "<Figure size 432x288 with 1 Axes>"
      ]
     },
     "metadata": {
      "needs_background": "light"
     },
     "output_type": "display_data"
    },
    {
     "data": {
      "image/png": "[encoded data removed]",
      "text/plain": [
       "<Figure size 432x288 with 1 Axes>"
      ]
     },
     "metadata": {
      "needs_background": "light"
     },
     "output_type": "display_data"
    }
   ],
   "source": [
    "plt.xlabel('epoch', fontsize=12)\n",
    "plt.ylabel('loss_value', fontsize=12)\n",
    "plt.plot(history.history['val_loss'],color='red')\n",
    "plt.plot(history.history['loss'],color='blue')\n",
    "plt.show()\n",
    "plt.xlabel('epoch', fontsize=12)\n",
    "plt.ylabel('accuracy_value', fontsize=12)\n",
    "plt.plot(history.history['val_accuracy'],color='red')\n",
    "plt.plot(history.history['accuracy'],color='blue')\n",
    "plt.show()"
   ]
  },
  {
   "cell_type": "code",
   "execution_count": null,
   "metadata": {},
   "outputs": [],
   "source": []
  }
 ],
 "metadata": {
  "kernelspec": {
   "display_name": "Python 3",
   "language": "python",
   "name": "python3"
  },
  "language_info": {
   "codemirror_mode": {
    "name": "ipython",
    "version": 3
   },
   "file_extension": ".py",
   "mimetype": "text/x-python",
   "name": "python",
   "nbconvert_exporter": "python",
   "pygments_lexer": "ipython3",
   "version": "3.6.7"
  }
 },
 "nbformat": 4,
 "nbformat_minor": 2
}
